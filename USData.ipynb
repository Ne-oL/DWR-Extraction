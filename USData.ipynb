{
 "cells": [
  {
   "cell_type": "markdown",
   "id": "0c12b211",
   "metadata": {},
   "source": [
    "### 1. Import the necessary Libraries"
   ]
  },
  {
   "cell_type": "code",
   "execution_count": 22,
   "id": "3f6aa6a0",
   "metadata": {},
   "outputs": [],
   "source": [
    "import pandas as pd\n",
    "import pathlib\n",
    "import copy"
   ]
  },
  {
   "cell_type": "markdown",
   "id": "ebc2cf1b",
   "metadata": {},
   "source": [
    "### 2. Import the Dataset & convert the date info into compatible format (Python Datetime format)"
   ]
  },
  {
   "cell_type": "code",
   "execution_count": 23,
   "id": "d3bdd06a",
   "metadata": {},
   "outputs": [],
   "source": [
    "path= str(\"measurements.csv\")\n",
    "data= pd.read_csv(path)\n",
    "data['MSMT_DATE']=pd.to_datetime(data['MSMT_DATE'])\n",
    "col=list(data.columns)"
   ]
  },
  {
   "cell_type": "code",
   "execution_count": 24,
   "id": "1363f600-9f06-41bf-8b57-a9d74fe40ef8",
   "metadata": {},
   "outputs": [
    {
     "data": {
      "text/html": [
       "<div>\n",
       "<style scoped>\n",
       "    .dataframe tbody tr th:only-of-type {\n",
       "        vertical-align: middle;\n",
       "    }\n",
       "\n",
       "    .dataframe tbody tr th {\n",
       "        vertical-align: top;\n",
       "    }\n",
       "\n",
       "    .dataframe thead th {\n",
       "        text-align: right;\n",
       "    }\n",
       "</style>\n",
       "<table border=\"1\" class=\"dataframe\">\n",
       "  <thead>\n",
       "    <tr style=\"text-align: right;\">\n",
       "      <th></th>\n",
       "      <th>SITE_CODE</th>\n",
       "      <th>WLM_ID</th>\n",
       "      <th>MSMT_DATE</th>\n",
       "      <th>WLM_RPE</th>\n",
       "      <th>WLM_GSE</th>\n",
       "      <th>GWE</th>\n",
       "      <th>GSE_GWE</th>\n",
       "      <th>WLM_QA_DESC</th>\n",
       "      <th>WLM_DESC</th>\n",
       "      <th>WLM_ACC_DESC</th>\n",
       "      <th>WLM_ORG_NAME</th>\n",
       "      <th>COOP_ORG_NAME</th>\n",
       "      <th>MONITORING_PROGRAM</th>\n",
       "      <th>MSMT_CMT</th>\n",
       "    </tr>\n",
       "  </thead>\n",
       "  <tbody>\n",
       "    <tr>\n",
       "      <th>0</th>\n",
       "      <td>320000N1140000W001</td>\n",
       "      <td>3016758</td>\n",
       "      <td>2021-08-26 20:00:00</td>\n",
       "      <td>545.92</td>\n",
       "      <td>545.92</td>\n",
       "      <td>133.92</td>\n",
       "      <td>412.0</td>\n",
       "      <td>NaN</td>\n",
       "      <td>Electric sounder measurement</td>\n",
       "      <td>Water level accuracy to nearest hundredth of a...</td>\n",
       "      <td>Monterey Peninsula Water Management District</td>\n",
       "      <td>Monterey Peninsula Water Management District</td>\n",
       "      <td>VOLUNTARY</td>\n",
       "      <td>NaN</td>\n",
       "    </tr>\n",
       "    <tr>\n",
       "      <th>1</th>\n",
       "      <td>320000N1140000W001</td>\n",
       "      <td>3016757</td>\n",
       "      <td>2021-07-29 19:00:00</td>\n",
       "      <td>545.92</td>\n",
       "      <td>545.92</td>\n",
       "      <td>135.92</td>\n",
       "      <td>410.0</td>\n",
       "      <td>NaN</td>\n",
       "      <td>Electric sounder measurement</td>\n",
       "      <td>Water level accuracy to nearest hundredth of a...</td>\n",
       "      <td>Monterey Peninsula Water Management District</td>\n",
       "      <td>Monterey Peninsula Water Management District</td>\n",
       "      <td>VOLUNTARY</td>\n",
       "      <td>NaN</td>\n",
       "    </tr>\n",
       "    <tr>\n",
       "      <th>2</th>\n",
       "      <td>320000N1140000W001</td>\n",
       "      <td>3016756</td>\n",
       "      <td>2021-06-24 18:00:00</td>\n",
       "      <td>545.92</td>\n",
       "      <td>545.92</td>\n",
       "      <td>134.92</td>\n",
       "      <td>411.0</td>\n",
       "      <td>NaN</td>\n",
       "      <td>Electric sounder measurement</td>\n",
       "      <td>Water level accuracy to nearest hundredth of a...</td>\n",
       "      <td>Monterey Peninsula Water Management District</td>\n",
       "      <td>Monterey Peninsula Water Management District</td>\n",
       "      <td>VOLUNTARY</td>\n",
       "      <td>NaN</td>\n",
       "    </tr>\n",
       "    <tr>\n",
       "      <th>3</th>\n",
       "      <td>320000N1140000W001</td>\n",
       "      <td>3016755</td>\n",
       "      <td>2021-05-27 17:00:00</td>\n",
       "      <td>545.92</td>\n",
       "      <td>545.92</td>\n",
       "      <td>134.92</td>\n",
       "      <td>411.0</td>\n",
       "      <td>NaN</td>\n",
       "      <td>Electric sounder measurement</td>\n",
       "      <td>Water level accuracy to nearest hundredth of a...</td>\n",
       "      <td>Monterey Peninsula Water Management District</td>\n",
       "      <td>Monterey Peninsula Water Management District</td>\n",
       "      <td>VOLUNTARY</td>\n",
       "      <td>NaN</td>\n",
       "    </tr>\n",
       "    <tr>\n",
       "      <th>4</th>\n",
       "      <td>320000N1140000W001</td>\n",
       "      <td>3016754</td>\n",
       "      <td>2021-04-29 16:00:00</td>\n",
       "      <td>545.92</td>\n",
       "      <td>545.92</td>\n",
       "      <td>136.92</td>\n",
       "      <td>409.0</td>\n",
       "      <td>NaN</td>\n",
       "      <td>Electric sounder measurement</td>\n",
       "      <td>Water level accuracy to nearest hundredth of a...</td>\n",
       "      <td>Monterey Peninsula Water Management District</td>\n",
       "      <td>Monterey Peninsula Water Management District</td>\n",
       "      <td>VOLUNTARY</td>\n",
       "      <td>NaN</td>\n",
       "    </tr>\n",
       "    <tr>\n",
       "      <th>...</th>\n",
       "      <td>...</td>\n",
       "      <td>...</td>\n",
       "      <td>...</td>\n",
       "      <td>...</td>\n",
       "      <td>...</td>\n",
       "      <td>...</td>\n",
       "      <td>...</td>\n",
       "      <td>...</td>\n",
       "      <td>...</td>\n",
       "      <td>...</td>\n",
       "      <td>...</td>\n",
       "      <td>...</td>\n",
       "      <td>...</td>\n",
       "      <td>...</td>\n",
       "    </tr>\n",
       "    <tr>\n",
       "      <th>2166650</th>\n",
       "      <td>420171N1214111W001</td>\n",
       "      <td>675330</td>\n",
       "      <td>2002-01-03 00:00:00</td>\n",
       "      <td>4061.00</td>\n",
       "      <td>4060.00</td>\n",
       "      <td>4016.30</td>\n",
       "      <td>43.7</td>\n",
       "      <td>NaN</td>\n",
       "      <td>Unknown</td>\n",
       "      <td>Water level accuracy is unknown</td>\n",
       "      <td>Department of Water Resources</td>\n",
       "      <td>Department of Water Resources</td>\n",
       "      <td>VOLUNTARY</td>\n",
       "      <td>NaN</td>\n",
       "    </tr>\n",
       "    <tr>\n",
       "      <th>2166651</th>\n",
       "      <td>420171N1214111W001</td>\n",
       "      <td>675329</td>\n",
       "      <td>2001-12-19 00:00:00</td>\n",
       "      <td>4061.00</td>\n",
       "      <td>4060.00</td>\n",
       "      <td>4014.90</td>\n",
       "      <td>45.1</td>\n",
       "      <td>NaN</td>\n",
       "      <td>Unknown</td>\n",
       "      <td>Water level accuracy is unknown</td>\n",
       "      <td>Department of Water Resources</td>\n",
       "      <td>Department of Water Resources</td>\n",
       "      <td>VOLUNTARY</td>\n",
       "      <td>NaN</td>\n",
       "    </tr>\n",
       "    <tr>\n",
       "      <th>2166652</th>\n",
       "      <td>420171N1214111W001</td>\n",
       "      <td>675328</td>\n",
       "      <td>2001-12-06 00:00:00</td>\n",
       "      <td>4061.00</td>\n",
       "      <td>4060.00</td>\n",
       "      <td>4011.20</td>\n",
       "      <td>48.8</td>\n",
       "      <td>NaN</td>\n",
       "      <td>Unknown</td>\n",
       "      <td>Water level accuracy is unknown</td>\n",
       "      <td>Department of Water Resources</td>\n",
       "      <td>Department of Water Resources</td>\n",
       "      <td>VOLUNTARY</td>\n",
       "      <td>NaN</td>\n",
       "    </tr>\n",
       "    <tr>\n",
       "      <th>2166653</th>\n",
       "      <td>420171N1214111W001</td>\n",
       "      <td>675327</td>\n",
       "      <td>2001-11-20 00:00:00</td>\n",
       "      <td>4061.00</td>\n",
       "      <td>4060.00</td>\n",
       "      <td>4012.60</td>\n",
       "      <td>47.4</td>\n",
       "      <td>NaN</td>\n",
       "      <td>Unknown</td>\n",
       "      <td>Water level accuracy is unknown</td>\n",
       "      <td>Department of Water Resources</td>\n",
       "      <td>Department of Water Resources</td>\n",
       "      <td>VOLUNTARY</td>\n",
       "      <td>NaN</td>\n",
       "    </tr>\n",
       "    <tr>\n",
       "      <th>2166654</th>\n",
       "      <td>420171N1214111W001</td>\n",
       "      <td>675326</td>\n",
       "      <td>2001-11-08 00:00:00</td>\n",
       "      <td>4061.00</td>\n",
       "      <td>4060.00</td>\n",
       "      <td>4008.60</td>\n",
       "      <td>51.4</td>\n",
       "      <td>NaN</td>\n",
       "      <td>Unknown</td>\n",
       "      <td>Water level accuracy is unknown</td>\n",
       "      <td>Department of Water Resources</td>\n",
       "      <td>Department of Water Resources</td>\n",
       "      <td>VOLUNTARY</td>\n",
       "      <td>NaN</td>\n",
       "    </tr>\n",
       "  </tbody>\n",
       "</table>\n",
       "<p>2166655 rows × 14 columns</p>\n",
       "</div>"
      ],
      "text/plain": [
       "                  SITE_CODE   WLM_ID           MSMT_DATE  WLM_RPE  WLM_GSE  \\\n",
       "0        320000N1140000W001  3016758 2021-08-26 20:00:00   545.92   545.92   \n",
       "1        320000N1140000W001  3016757 2021-07-29 19:00:00   545.92   545.92   \n",
       "2        320000N1140000W001  3016756 2021-06-24 18:00:00   545.92   545.92   \n",
       "3        320000N1140000W001  3016755 2021-05-27 17:00:00   545.92   545.92   \n",
       "4        320000N1140000W001  3016754 2021-04-29 16:00:00   545.92   545.92   \n",
       "...                     ...      ...                 ...      ...      ...   \n",
       "2166650  420171N1214111W001   675330 2002-01-03 00:00:00  4061.00  4060.00   \n",
       "2166651  420171N1214111W001   675329 2001-12-19 00:00:00  4061.00  4060.00   \n",
       "2166652  420171N1214111W001   675328 2001-12-06 00:00:00  4061.00  4060.00   \n",
       "2166653  420171N1214111W001   675327 2001-11-20 00:00:00  4061.00  4060.00   \n",
       "2166654  420171N1214111W001   675326 2001-11-08 00:00:00  4061.00  4060.00   \n",
       "\n",
       "             GWE  GSE_GWE WLM_QA_DESC                      WLM_DESC  \\\n",
       "0         133.92    412.0         NaN  Electric sounder measurement   \n",
       "1         135.92    410.0         NaN  Electric sounder measurement   \n",
       "2         134.92    411.0         NaN  Electric sounder measurement   \n",
       "3         134.92    411.0         NaN  Electric sounder measurement   \n",
       "4         136.92    409.0         NaN  Electric sounder measurement   \n",
       "...          ...      ...         ...                           ...   \n",
       "2166650  4016.30     43.7         NaN                       Unknown   \n",
       "2166651  4014.90     45.1         NaN                       Unknown   \n",
       "2166652  4011.20     48.8         NaN                       Unknown   \n",
       "2166653  4012.60     47.4         NaN                       Unknown   \n",
       "2166654  4008.60     51.4         NaN                       Unknown   \n",
       "\n",
       "                                              WLM_ACC_DESC  \\\n",
       "0        Water level accuracy to nearest hundredth of a...   \n",
       "1        Water level accuracy to nearest hundredth of a...   \n",
       "2        Water level accuracy to nearest hundredth of a...   \n",
       "3        Water level accuracy to nearest hundredth of a...   \n",
       "4        Water level accuracy to nearest hundredth of a...   \n",
       "...                                                    ...   \n",
       "2166650                    Water level accuracy is unknown   \n",
       "2166651                    Water level accuracy is unknown   \n",
       "2166652                    Water level accuracy is unknown   \n",
       "2166653                    Water level accuracy is unknown   \n",
       "2166654                    Water level accuracy is unknown   \n",
       "\n",
       "                                         WLM_ORG_NAME  \\\n",
       "0        Monterey Peninsula Water Management District   \n",
       "1        Monterey Peninsula Water Management District   \n",
       "2        Monterey Peninsula Water Management District   \n",
       "3        Monterey Peninsula Water Management District   \n",
       "4        Monterey Peninsula Water Management District   \n",
       "...                                               ...   \n",
       "2166650                 Department of Water Resources   \n",
       "2166651                 Department of Water Resources   \n",
       "2166652                 Department of Water Resources   \n",
       "2166653                 Department of Water Resources   \n",
       "2166654                 Department of Water Resources   \n",
       "\n",
       "                                        COOP_ORG_NAME MONITORING_PROGRAM  \\\n",
       "0        Monterey Peninsula Water Management District          VOLUNTARY   \n",
       "1        Monterey Peninsula Water Management District          VOLUNTARY   \n",
       "2        Monterey Peninsula Water Management District          VOLUNTARY   \n",
       "3        Monterey Peninsula Water Management District          VOLUNTARY   \n",
       "4        Monterey Peninsula Water Management District          VOLUNTARY   \n",
       "...                                               ...                ...   \n",
       "2166650                 Department of Water Resources          VOLUNTARY   \n",
       "2166651                 Department of Water Resources          VOLUNTARY   \n",
       "2166652                 Department of Water Resources          VOLUNTARY   \n",
       "2166653                 Department of Water Resources          VOLUNTARY   \n",
       "2166654                 Department of Water Resources          VOLUNTARY   \n",
       "\n",
       "        MSMT_CMT  \n",
       "0            NaN  \n",
       "1            NaN  \n",
       "2            NaN  \n",
       "3            NaN  \n",
       "4            NaN  \n",
       "...          ...  \n",
       "2166650      NaN  \n",
       "2166651      NaN  \n",
       "2166652      NaN  \n",
       "2166653      NaN  \n",
       "2166654      NaN  \n",
       "\n",
       "[2166655 rows x 14 columns]"
      ]
     },
     "execution_count": 24,
     "metadata": {},
     "output_type": "execute_result"
    }
   ],
   "source": [
    "data"
   ]
  },
  {
   "cell_type": "markdown",
   "id": "f45c43c7",
   "metadata": {},
   "source": [
    "### 3. Wrange the data to the proper format"
   ]
  },
  {
   "cell_type": "code",
   "execution_count": 25,
   "id": "da1bcb0f",
   "metadata": {},
   "outputs": [],
   "source": [
    "data=data.drop(columns=['WLM_ID','WLM_RPE','WLM_GSE','GWE','WLM_QA_DESC','WLM_DESC','WLM_ACC_DESC','WLM_ORG_NAME','COOP_ORG_NAME','MONITORING_PROGRAM','MSMT_CMT']) #the name and Unnamed are both redundant so the are removed from the dataset"
   ]
  },
  {
   "cell_type": "markdown",
   "id": "97b7da7e",
   "metadata": {},
   "source": [
    "### 4. Create a Dictionary object using the wells names as Key and a list of all the readings as items"
   ]
  },
  {
   "cell_type": "code",
   "execution_count": 26,
   "id": "0eb95a98",
   "metadata": {},
   "outputs": [],
   "source": [
    "wellsDic={}\n",
    "for c in range(len(data.index)):\n",
    "    if data.iloc[c].SITE_CODE not in list(wellsDic.keys()):\n",
    "        wellsDic[str(data.iloc[c].SITE_CODE)]=[data.iloc[c].tolist()]\n",
    "    else:\n",
    "        wellsDic[str(data.iloc[c].SITE_CODE)].append(data.iloc[c].tolist())"
   ]
  },
  {
   "cell_type": "markdown",
   "id": "d05b0415",
   "metadata": {},
   "source": [
    "### 5. Take the Average Monthly reading for each well and add all the readings into a Dictunary Object using the wells names as key and the readings as items"
   ]
  },
  {
   "cell_type": "code",
   "execution_count": 27,
   "id": "44913cff",
   "metadata": {},
   "outputs": [],
   "source": [
    "v=list(wellsDic.keys())\n",
    "for x in v:\n",
    "    z=pd.DataFrame(wellsDic[x])\n",
    "    wellsDic[x]=z.resample('M', on=1).mean()  #assgin the datatime column as index and resample the data on average monthly basis in it\n",
    "    wellsDic[x]=wellsDic[x].reset_index()     #assign a new index and return the date column as a column to the dataset  "
   ]
  },
  {
   "cell_type": "markdown",
   "id": "98c2ad80",
   "metadata": {},
   "source": [
    "### 6. Remove the Wells that have low readings"
   ]
  },
  {
   "cell_type": "markdown",
   "id": "5cb5e520",
   "metadata": {},
   "source": [
    "#### 6.1 Check the number BEFORE the removal"
   ]
  },
  {
   "cell_type": "code",
   "execution_count": 28,
   "id": "94c5c6a2",
   "metadata": {},
   "outputs": [
    {
     "name": "stdout",
     "output_type": "stream",
     "text": [
      "42255\n"
     ]
    }
   ],
   "source": [
    "print(len(wellsDic))"
   ]
  },
  {
   "cell_type": "code",
   "execution_count": 29,
   "id": "427fd41b",
   "metadata": {},
   "outputs": [],
   "source": [
    "wellsBckup=copy.deepcopy(wellsDic)"
   ]
  },
  {
   "cell_type": "code",
   "execution_count": 61,
   "id": "bfe4a000",
   "metadata": {},
   "outputs": [],
   "source": [
    "wellsDic=copy.deepcopy(wellsBckup)"
   ]
  },
  {
   "cell_type": "markdown",
   "id": "1785a8c8",
   "metadata": {},
   "source": [
    "#### 6.2 Remove the Wells"
   ]
  },
  {
   "cell_type": "code",
   "execution_count": 62,
   "id": "1478b605",
   "metadata": {},
   "outputs": [],
   "source": [
    "wells= list(data.SITE_CODE.unique()) #get the number of wells in the dataset\n",
    "for x in wells:\n",
    "    wellsDic[x].dropna(inplace=True)\n",
    "    if len(wellsDic[x])<120: #Determine the threshold for the cutoff number of readings, in this case its (6)\n",
    "        wellsDic.pop(x)"
   ]
  },
  {
   "cell_type": "markdown",
   "id": "c72d1424",
   "metadata": {},
   "source": [
    "#### 6.3 Check the number AFTER the removal"
   ]
  },
  {
   "cell_type": "markdown",
   "id": "a6b00850",
   "metadata": {
    "tags": []
   },
   "source": [
    "### 7. Convert the Dictunary Object into DataFrame Object in preparation to export it to excel or CSV file"
   ]
  },
  {
   "cell_type": "code",
   "execution_count": 63,
   "id": "5527ffa4",
   "metadata": {},
   "outputs": [
    {
     "name": "stdout",
     "output_type": "stream",
     "text": [
      "2992\n"
     ]
    }
   ],
   "source": [
    "print(len(wellsDic))"
   ]
  },
  {
   "cell_type": "code",
   "execution_count": 64,
   "id": "d912cfd6-4f10-4680-b2b1-1a6ac4ce26b0",
   "metadata": {},
   "outputs": [],
   "source": [
    "test=pd.DataFrame([0])\n",
    "for x in list(wellsDic.keys()):\n",
    "    rng = list(range(len(wellsDic[x].index)))\n",
    "    for i in rng:\n",
    "        test=test.append([[x,wellsDic[x].iloc[i,0],wellsDic[x].iloc[i,1]]], ignore_index=True)\n",
    "test.rename(columns={0: 'Well Code',1: 'Date', 2: 'Readings'}, inplace=True)"
   ]
  },
  {
   "cell_type": "code",
   "execution_count": 65,
   "id": "93d3fdb4-cc1c-48f5-bc24-decc56f41377",
   "metadata": {},
   "outputs": [
    {
     "data": {
      "text/plain": [
       "Well Code     2993\n",
       "Date          1392\n",
       "Readings     67013\n",
       "dtype: int64"
      ]
     },
     "execution_count": 65,
     "metadata": {},
     "output_type": "execute_result"
    }
   ],
   "source": [
    "test.nunique()"
   ]
  },
  {
   "cell_type": "markdown",
   "id": "6df8346f",
   "metadata": {},
   "source": [
    "### 8. Export the Data to a new CSV file"
   ]
  },
  {
   "cell_type": "code",
   "execution_count": 66,
   "id": "0927cccd",
   "metadata": {},
   "outputs": [],
   "source": [
    "test.to_csv('USData(10Y-2992).csv')"
   ]
  },
  {
   "cell_type": "code",
   "execution_count": null,
   "id": "fd7e027a-cc80-4965-b970-766089e05fcd",
   "metadata": {},
   "outputs": [],
   "source": []
  }
 ],
 "metadata": {
  "environment": {
   "kernel": "python3",
   "name": "common-cu110.m84",
   "type": "gcloud",
   "uri": "gcr.io/deeplearning-platform-release/base-cu110:m84"
  },
  "kernelspec": {
   "display_name": "Python 3",
   "language": "python",
   "name": "python3"
  },
  "language_info": {
   "codemirror_mode": {
    "name": "ipython",
    "version": 3
   },
   "file_extension": ".py",
   "mimetype": "text/x-python",
   "name": "python",
   "nbconvert_exporter": "python",
   "pygments_lexer": "ipython3",
   "version": "3.7.12"
  },
  "toc-autonumbering": false,
  "toc-showcode": false,
  "toc-showmarkdowntxt": false,
  "varInspector": {
   "cols": {
    "lenName": 16,
    "lenType": 16,
    "lenVar": 40
   },
   "kernels_config": {
    "python": {
     "delete_cmd_postfix": "",
     "delete_cmd_prefix": "del ",
     "library": "var_list.py",
     "varRefreshCmd": "print(var_dic_list())"
    },
    "r": {
     "delete_cmd_postfix": ") ",
     "delete_cmd_prefix": "rm(",
     "library": "var_list.r",
     "varRefreshCmd": "cat(var_dic_list()) "
    }
   },
   "position": {
    "height": "487.534px",
    "left": "733.364px",
    "right": "20px",
    "top": "117px",
    "width": "504px"
   },
   "types_to_exclude": [
    "module",
    "function",
    "builtin_function_or_method",
    "instance",
    "_Feature"
   ],
   "window_display": false
  }
 },
 "nbformat": 4,
 "nbformat_minor": 5
}
